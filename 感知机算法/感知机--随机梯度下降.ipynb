{
 "cells": [
  {
   "cell_type": "markdown",
   "metadata": {},
   "source": [
    "# 感知机--随机梯度下降"
   ]
  },
  {
   "cell_type": "code",
   "execution_count": 1,
   "metadata": {},
   "outputs": [],
   "source": [
    "import scipy.io as sio  #用于读取mat文件\n",
    "import numpy as np\n",
    "import pandas as pd\n",
    "import matplotlib.pyplot as plt\n",
    "%matplotlib inline"
   ]
  },
  {
   "cell_type": "code",
   "execution_count": 2,
   "metadata": {},
   "outputs": [],
   "source": [
    "data = sio.loadmat(\"D:/jupyter/Machine-Learning-Classes-master/2 Perceptron/data_Perc.mat\")"
   ]
  },
  {
   "cell_type": "code",
   "execution_count": 3,
   "metadata": {},
   "outputs": [
    {
     "data": {
      "text/plain": [
       "{'__header__': b'MATLAB 5.0 MAT-file, Platform: PCWIN64, Created on: Mon Sep  9 18:38:17 2019',\n",
       " '__version__': '1.0',\n",
       " '__globals__': [],\n",
       " 'x': array([[ 1. ,  1.5,  2.1,  3.1,  3.5,  4. ,  5. ,  5.9,  6.9,  7.9,  8.4,\n",
       "          9. , 10. , 10.5, 11.2],\n",
       "        [ 4.5,  6.5,  3.5,  4.9,  6.5,  4.2,  5. ,  2.7,  3.7,  2.2,  2.6,\n",
       "          1.6,  5. ,  0.8,  1.5]]),\n",
       " 'y': array([[-1,  1, -1, -1,  1, -1,  1, -1,  1, -1,  1, -1,  1, -1,  1]],\n",
       "       dtype=int16)}"
      ]
     },
     "execution_count": 3,
     "metadata": {},
     "output_type": "execute_result"
    }
   ],
   "source": [
    "data  #读取出的mat文件数据是字典类型"
   ]
  },
  {
   "cell_type": "code",
   "execution_count": 136,
   "metadata": {},
   "outputs": [
    {
     "data": {
      "text/plain": [
       "array([[-1,  1, -1, -1,  1, -1,  1, -1,  1, -1,  1, -1,  1, -1,  1]],\n",
       "      dtype=int16)"
      ]
     },
     "execution_count": 136,
     "metadata": {},
     "output_type": "execute_result"
    }
   ],
   "source": [
    "x = np.array(data['x'])\n",
    "y = np.array(data['y']) #将字典类型转换为numpy数组\n",
    "y"
   ]
  },
  {
   "cell_type": "code",
   "execution_count": 32,
   "metadata": {},
   "outputs": [
    {
     "data": {
      "text/plain": [
       "array([ 1,  4,  6,  8, 10, 12, 14], dtype=int64)"
      ]
     },
     "execution_count": 32,
     "metadata": {},
     "output_type": "execute_result"
    }
   ],
   "source": [
    "inx1 = np.argwhere(y==1)[:,1]\n",
    "inx2 = np.argwhere(y==-1)[:,1] # 给出数据的索引，将数据分成两类\n",
    "inx1"
   ]
  },
  {
   "cell_type": "code",
   "execution_count": 8,
   "metadata": {},
   "outputs": [],
   "source": [
    "x_1 = x[0,:]\n",
    "x_2 = x[1,:]"
   ]
  },
  {
   "cell_type": "code",
   "execution_count": 9,
   "metadata": {},
   "outputs": [],
   "source": [
    "x1 = x_1[inx1]\n",
    "x2 = x_2[inx1]\n",
    "x3 = x_1[inx2]\n",
    "x4 = x_2[inx2]"
   ]
  },
  {
   "cell_type": "code",
   "execution_count": 137,
   "metadata": {},
   "outputs": [
    {
     "data": {
      "text/plain": [
       "<matplotlib.legend.Legend at 0x195064e5848>"
      ]
     },
     "execution_count": 137,
     "metadata": {},
     "output_type": "execute_result"
    },
    {
     "data": {
      "image/png": "[encoded data removed]",
      "text/plain": [
       "<Figure size 432x288 with 1 Axes>"
      ]
     },
     "metadata": {},
     "output_type": "display_data"
    }
   ],
   "source": [
    "plt.style.use(\"seaborn-whitegrid\") \n",
    "plt.scatter(x1,x2,c='r',marker=\"x\",label='0')\n",
    "plt.scatter(x3,x4,c='b',marker=\"o\",label='1')\n",
    "plt.legend()"
   ]
  },
  {
   "cell_type": "code",
   "execution_count": 142,
   "metadata": {},
   "outputs": [],
   "source": [
    "class Model:\n",
    "    def __init__(self):\n",
    "        #初始化w, b和学习率\n",
    "        self.w = np.ones((1,2), dtype=np.float32)     \n",
    "        self.b = 0 \n",
    "        self.l_rate = 0.01     \n",
    "        \n",
    "    def multiply(self, x, w, b):\n",
    "        y = np.dot(x,w.T) + b      \n",
    "        return y\n",
    "    \n",
    "    #模型训练，随机梯度下降\n",
    "    def model_fit(self, X_train, y_train):\n",
    "        print(\"start to fit\")\n",
    "        \n",
    "        loss = []  #用于存放每次的损失值\n",
    "        n = 0\n",
    "        while  n < 10000:\n",
    "            n += 1\n",
    "            a = [0]*len(X_train)\n",
    "            for i in range(len(X_train)):\n",
    "                X = X_train[i]\n",
    "                y = y_train[i]\n",
    "                a[i] = y * self.multiply(X, self.w, self.b)\n",
    "            a = np.array(a,dtype = np.float32)\n",
    "            inx = np.argwhere(a <= 0).T[0,:]   #找出所有误分类点的索引\n",
    "            \n",
    "            delta_w = np.dot(X_train[inx].T,y_train[inx]).T  \n",
    "            delta_b = sum(y_train[inx])\n",
    "             #利用所有的误分类点的数据来进行更新参数\n",
    "            self.w = self.w + self.l_rate * delta_w    \n",
    "            self.b = self.b + self.l_rate * delta_b\n",
    "            #求损失值\n",
    "            temp_loss = -sum(a[inx])\n",
    "            loss.append(temp_loss)\n",
    "            \n",
    "        print(\"Model training completed!\")\n",
    "        print(\"w = {}, b = {}\".format(self.w, self.b))  #给出训练后的模型参数\n",
    "        return loss"
   ]
  },
  {
   "cell_type": "code",
   "execution_count": 143,
   "metadata": {},
   "outputs": [
    {
     "name": "stdout",
     "output_type": "stream",
     "text": [
      "start to fit\n",
      "Model training completed!\n",
      "w = [[0.523 1.026]], b = [-6.82]\n"
     ]
    }
   ],
   "source": [
    "perceptron = Model()\n",
    "loss = perceptron.model_fit(x.T, y.T)"
   ]
  },
  {
   "cell_type": "code",
   "execution_count": 144,
   "metadata": {},
   "outputs": [
    {
     "data": {
      "text/plain": [
       "<matplotlib.legend.Legend at 0x19506630cc8>"
      ]
     },
     "execution_count": 144,
     "metadata": {},
     "output_type": "execute_result"
    },
    {
     "data": {
      "image/png": "[encoded data removed]",
      "text/plain": [
       "<Figure size 432x288 with 1 Axes>"
      ]
     },
     "metadata": {},
     "output_type": "display_data"
    }
   ],
   "source": [
    "x_points = np.linspace(0,12,10)\n",
    "y_points = -(perceptron.w[0,0] * x_points + perceptron.b) / perceptron.w[0,1]\n",
    "plt.plot(x_points, y_points)\n",
    "\n",
    "plt.scatter(x1,x2,c='r',marker=\"x\",label='0')\n",
    "plt.scatter(x3,x4,c='b',marker=\"o\",label='1')\n",
    "plt.legend()"
   ]
  },
  {
   "cell_type": "code",
   "execution_count": 146,
   "metadata": {},
   "outputs": [
    {
     "data": {
      "text/plain": [
       "[<matplotlib.lines.Line2D at 0x1950671f5c8>]"
      ]
     },
     "execution_count": 146,
     "metadata": {},
     "output_type": "execute_result"
    },
    {
     "data": {
      "image/png": "[encoded data removed]",
      "text/plain": [
       "<Figure size 432x288 with 1 Axes>"
      ]
     },
     "metadata": {},
     "output_type": "display_data"
    }
   ],
   "source": [
    "x_point = np.linspace(1,1000,100,dtype=int)\n",
    "y_point = np.array(loss)[x_point]\n",
    "plt.plot(x_points,y_points)"
   ]
  },
  {
   "cell_type": "markdown",
   "metadata": {},
   "source": [
    "## 参考"
   ]
  },
  {
   "cell_type": "markdown",
   "metadata": {},
   "source": [
    "1.https://github.com/haitaozhao/Machine-Learning-Classes/tree/master"
   ]
  }
 ],
 "metadata": {
  "kernelspec": {
   "display_name": "Python 3",
   "language": "python",
   "name": "python3"
  },
  "language_info": {
   "codemirror_mode": {
    "name": "ipython",
    "version": 3
   },
   "file_extension": ".py",
   "mimetype": "text/x-python",
   "name": "python",
   "nbconvert_exporter": "python",
   "pygments_lexer": "ipython3",
   "version": "3.7.4"
  }
 },
 "nbformat": 4,
 "nbformat_minor": 2
}
