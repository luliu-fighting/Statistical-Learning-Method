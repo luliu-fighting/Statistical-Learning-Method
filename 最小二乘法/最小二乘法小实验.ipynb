{
 "cells": [
  {
   "cell_type": "markdown",
   "metadata": {},
   "source": [
    "## 最小二乘法"
   ]
  },
  {
   "cell_type": "markdown",
   "metadata": {},
   "source": [
    "### 1.生成数据"
   ]
  },
  {
   "cell_type": "code",
   "execution_count": 8,
   "metadata": {},
   "outputs": [],
   "source": [
    "import numpy as np\n",
    "import matplotlib.pyplot as plt\n",
    "%matplotlib inline"
   ]
  },
  {
   "cell_type": "code",
   "execution_count": 9,
   "metadata": {},
   "outputs": [],
   "source": [
    "x = np.array([np.linspace(0.01,1,100),\n",
    "              np.square(np.linspace(0.01,1,100))]).T\n",
    "w = np.ones((2,1))\n",
    "b = 1\n",
    "y = np.dot(x,w) + b + 0.01*np.random.randn(100,1)     #加上服从正态分布的扰动，生成随机数据"
   ]
  },
  {
   "cell_type": "markdown",
   "metadata": {},
   "source": [
    "### 2.求解w "
   ]
  },
  {
   "cell_type": "markdown",
   "metadata": {},
   "source": [
    "#### (1)用推导出的公式求解w参数"
   ]
  },
  {
   "cell_type": "markdown",
   "metadata": {},
   "source": [
    "$w = (X^TX)^{-1}X^TY$"
   ]
  },
  {
   "cell_type": "code",
   "execution_count": 11,
   "metadata": {},
   "outputs": [],
   "source": [
    "x1 = np.ones((100,1))\n",
    "X = np.hstack([x,x1])   #水平拼接\n",
    "Y = y"
   ]
  },
  {
   "cell_type": "markdown",
   "metadata": {},
   "source": [
    "$Y = Xw$"
   ]
  },
  {
   "cell_type": "code",
   "execution_count": 12,
   "metadata": {},
   "outputs": [
    {
     "name": "stdout",
     "output_type": "stream",
     "text": [
      "w is [[1.0277462 ]\n",
      " [0.97806751]\n",
      " [0.99407405]]\n"
     ]
    }
   ],
   "source": [
    "w = np.linalg.inv(np.dot(X.T,X)).dot(np.dot(X.T,Y))  #推导出的公式\n",
    "print(\"w is {}\".format(w))  #这里的w是将b合并了，即w = [w1,w2,b]"
   ]
  },
  {
   "cell_type": "markdown",
   "metadata": {},
   "source": [
    "#### (2)用梯度下降法求解w参数"
   ]
  },
  {
   "cell_type": "code",
   "execution_count": 13,
   "metadata": {},
   "outputs": [
    {
     "data": {
      "text/plain": [
       "array([[0.11275297],\n",
       "       [0.08612334],\n",
       "       [0.18778749]])"
      ]
     },
     "execution_count": 13,
     "metadata": {},
     "output_type": "execute_result"
    }
   ],
   "source": [
    "#梯度下降\n",
    "w = 0.01*np.random.rand(3,1)  #初始化w\n",
    "l_r = 0.001                   #初始化学习率\n",
    "delta_w = np.dot(X.T,Y) - np.dot(X.T,X).dot(w) #求梯度\n",
    "new_w = w + l_r*delta_w       #更新w参数\n",
    "new_w"
   ]
  },
  {
   "cell_type": "code",
   "execution_count": 15,
   "metadata": {
    "scrolled": true
   },
   "outputs": [
    {
     "name": "stdout",
     "output_type": "stream",
     "text": [
      "w is [[1.0592549 ]\n",
      " [0.9479569 ]\n",
      " [0.98833484]]\n"
     ]
    }
   ],
   "source": [
    "loss= []   #用于存放每次更新求出的损失值\n",
    "for i in range(1000):  #最多迭代1000次\n",
    "    a = [0]*1000       \n",
    "    a[i] = np.sum((Y.T - np.dot(X,new_w).T)**2)  #求损失\n",
    "    loss.append(a[i])  #记录每次的损失\n",
    "    if a[i] < 0.01:     #判断是否到达设定的阈值\n",
    "        break          #达到阈值则结束循环\n",
    "    else:               #否则更新参数\n",
    "        w = new_w\n",
    "        delta_w = np.dot(X.T,Y) - np.dot(X.T,X).dot(w)\n",
    "        new_w = w + l_r*delta_w\n",
    "print(\"w is {}\".format(new_w))  #显示最后求出的参数"
   ]
  },
  {
   "cell_type": "code",
   "execution_count": 16,
   "metadata": {},
   "outputs": [
    {
     "data": {
      "text/plain": [
       "[<matplotlib.lines.Line2D at 0x1f74b6b9088>]"
      ]
     },
     "execution_count": 16,
     "metadata": {},
     "output_type": "execute_result"
    },
    {
     "data": {
      "image/png": "[encoded data removed]",
      "text/plain": [
       "<Figure size 432x288 with 1 Axes>"
      ]
     },
     "metadata": {
      "needs_background": "light"
     },
     "output_type": "display_data"
    }
   ],
   "source": [
    "plt.plot(loss)    #画出损失值的变化图像"
   ]
  }
 ],
 "metadata": {
  "kernelspec": {
   "display_name": "Python 3",
   "language": "python",
   "name": "python3"
  },
  "language_info": {
   "codemirror_mode": {
    "name": "ipython",
    "version": 3
   },
   "file_extension": ".py",
   "mimetype": "text/x-python",
   "name": "python",
   "nbconvert_exporter": "python",
   "pygments_lexer": "ipython3",
   "version": "3.7.4"
  }
 },
 "nbformat": 4,
 "nbformat_minor": 2
}
